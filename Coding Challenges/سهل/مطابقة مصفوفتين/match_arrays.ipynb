{
 "cells": [
  {
   "cell_type": "markdown",
   "id": "d16450c7",
   "metadata": {},
   "source": [
    "# Problem Description"
   ]
  },
  {
   "cell_type": "markdown",
   "id": "2e698280",
   "metadata": {},
   "source": [
    "<div dir=\"rtl\" style=\"text-align: right;\">\n",
    "قم بكتابة دالة function تستقبل مصفوفتين arrays من نوع string وتقوم بإرجاع قيمة true أو false اعتمادا على مطابقة جميع الكلمات في المصفوفة array2 مع الكلمات الموجودة في الـمصفوفة array1.\n",
    "</div>\n"
   ]
  },
  {
   "cell_type": "markdown",
   "id": "c3a62a01",
   "metadata": {},
   "source": [
    "# Solution"
   ]
  },
  {
   "cell_type": "code",
   "execution_count": 2,
   "id": "3b0a5d64",
   "metadata": {},
   "outputs": [
    {
     "data": {
      "text/plain": [
       "False"
      ]
     },
     "execution_count": 2,
     "metadata": {},
     "output_type": "execute_result"
    }
   ],
   "source": [
    "from typing import List\n",
    "from collections import Counter\n",
    "def match_arrays(array1: List[str], array2: List[str]) -> bool:\n",
    "    return Counter(array1) == Counter(array2)\n",
    "\n",
    "\n",
    "array1 = ['hello', 'there', 'word2']\n",
    "array2 = ['hello', 'word2']\n",
    "match_arrays(array1, array2)"
   ]
  },
  {
   "cell_type": "markdown",
   "id": "aa4b8b4d",
   "metadata": {},
   "source": [
    "# Computational complexity"
   ]
  },
  {
   "cell_type": "markdown",
   "id": "a8f487da",
   "metadata": {},
   "source": [
    "## Time Complexity O(n+m)\n",
    "## Space Complexity O(n+m)"
   ]
  }
 ],
 "metadata": {
  "kernelspec": {
   "display_name": "Python 3",
   "language": "python",
   "name": "python3"
  },
  "language_info": {
   "codemirror_mode": {
    "name": "ipython",
    "version": 3
   },
   "file_extension": ".py",
   "mimetype": "text/x-python",
   "name": "python",
   "nbconvert_exporter": "python",
   "pygments_lexer": "ipython3",
   "version": "3.10.0"
  }
 },
 "nbformat": 4,
 "nbformat_minor": 5
}
