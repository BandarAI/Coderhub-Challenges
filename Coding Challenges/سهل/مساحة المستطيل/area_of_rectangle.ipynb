{
 "cells": [
  {
   "cell_type": "markdown",
   "id": "7cb1b587",
   "metadata": {},
   "source": [
    "# Problem Description"
   ]
  },
  {
   "cell_type": "markdown",
   "id": "f3eecf93",
   "metadata": {},
   "source": [
    "<div dir=\"rtl\" style=\"text-align: right;\">\n",
    "قم بكتابة دالة function تستقبل عدد صحيح integer يُمثل طول ضلع المربع. تقوم الدالة بحساب مساحة المربع وإرجاع النتيجة.\n",
    "</div>\n"
   ]
  },
  {
   "cell_type": "markdown",
   "id": "d2751175",
   "metadata": {},
   "source": [
    "# Solution"
   ]
  },
  {
   "cell_type": "code",
   "execution_count": 1,
   "id": "d17d00b5",
   "metadata": {},
   "outputs": [
    {
     "data": {
      "text/plain": [
       "72"
      ]
     },
     "execution_count": 1,
     "metadata": {},
     "output_type": "execute_result"
    }
   ],
   "source": [
    "from typing import List\n",
    "def area_of_rectangle(width: int, height: int) -> int:\n",
    "    return width * height\n",
    "\n",
    "area_of_rectangle(8,9)"
   ]
  },
  {
   "cell_type": "markdown",
   "id": "5ce93aaf",
   "metadata": {},
   "source": [
    "# Computational complexity"
   ]
  },
  {
   "cell_type": "markdown",
   "id": "987b1ccb",
   "metadata": {},
   "source": [
    "## Time Complexity and Space Complexity: O(1)"
   ]
  }
 ],
 "metadata": {
  "kernelspec": {
   "display_name": "Python 3",
   "language": "python",
   "name": "python3"
  },
  "language_info": {
   "codemirror_mode": {
    "name": "ipython",
    "version": 3
   },
   "file_extension": ".py",
   "mimetype": "text/x-python",
   "name": "python",
   "nbconvert_exporter": "python",
   "pygments_lexer": "ipython3",
   "version": "3.10.0"
  }
 },
 "nbformat": 4,
 "nbformat_minor": 5
}
