{
 "cells": [
  {
   "cell_type": "markdown",
   "id": "15ed57f2",
   "metadata": {},
   "source": [
    "# Problem Description"
   ]
  },
  {
   "cell_type": "markdown",
   "id": "0291545d",
   "metadata": {},
   "source": [
    "<div dir=\"rtl\" style=\"text-align: right;\">\n",
    "في مركز دعم العملاء، تتلقّى رسائل نصية يوميًا، ويحاول النظام تحليل مدى انفعالية الرسالة بناءً على عدد الحروف المتحركة فيها (a, e, i, o, u).\n",
    "\n",
    "مهمتك هي كتابة دالة countVowels(s) التي تستقبل نصًا (string) وتحسب عدد الحروف المتحركة الإنجليزية الموجودة فيه (سواء كبيرة أو صغيرة). هذا المؤشر يُستخدم لاحقًا في تصنيف الرسائل.\n",
    "</div>\n"
   ]
  },
  {
   "cell_type": "markdown",
   "id": "e84bfe8c",
   "metadata": {},
   "source": [
    "# Solution"
   ]
  },
  {
   "cell_type": "code",
   "execution_count": 4,
   "id": "838a5522",
   "metadata": {},
   "outputs": [
    {
     "data": {
      "text/plain": [
       "3"
      ]
     },
     "execution_count": 4,
     "metadata": {},
     "output_type": "execute_result"
    }
   ],
   "source": [
    "from typing import List\n",
    "def countVowels(s: str) -> int:\n",
    "    vowels = ['a','e','i','o','u', 'A', 'E', 'I', 'O', 'U']\n",
    "    count = 0 \n",
    "\n",
    "    for i in s:\n",
    "        if i in vowels:\n",
    "            count += 1\n",
    "    \n",
    "    return count\n",
    "\n",
    "countVowels('Hello World')"
   ]
  },
  {
   "cell_type": "markdown",
   "id": "e43dd027",
   "metadata": {},
   "source": [
    "# Computational complexity"
   ]
  },
  {
   "cell_type": "markdown",
   "id": "d10a00ed",
   "metadata": {},
   "source": [
    "## Time complexity: O(n)\n",
    "## Space complexity: O(1)\n"
   ]
  }
 ],
 "metadata": {
  "kernelspec": {
   "display_name": "Python 3",
   "language": "python",
   "name": "python3"
  },
  "language_info": {
   "codemirror_mode": {
    "name": "ipython",
    "version": 3
   },
   "file_extension": ".py",
   "mimetype": "text/x-python",
   "name": "python",
   "nbconvert_exporter": "python",
   "pygments_lexer": "ipython3",
   "version": "3.10.0"
  }
 },
 "nbformat": 4,
 "nbformat_minor": 5
}
