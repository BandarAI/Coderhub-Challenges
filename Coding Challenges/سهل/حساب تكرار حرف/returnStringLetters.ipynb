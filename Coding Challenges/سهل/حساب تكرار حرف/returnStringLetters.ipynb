{
 "cells": [
  {
   "cell_type": "markdown",
   "id": "d16450c7",
   "metadata": {},
   "source": [
    "# Problem Description"
   ]
  },
  {
   "cell_type": "markdown",
   "id": "2e698280",
   "metadata": {},
   "source": [
    "<div dir=\"rtl\" style=\"text-align: right;\">\n",
    "قم بكتابة دالة function تقوم باستقبال قيمتين نصية string. تقوم هذه الدالة بمقارنة عدد الخانات النصية لكل من هذين المدخلين ومن ثم تقوم بإرجاع العدد الأكبر لعدد الخانات.\n",
    "</div>\n"
   ]
  },
  {
   "cell_type": "markdown",
   "id": "c3a62a01",
   "metadata": {},
   "source": [
    "# Solution"
   ]
  },
  {
   "cell_type": "code",
   "execution_count": 1,
   "id": "3b0a5d64",
   "metadata": {},
   "outputs": [
    {
     "data": {
      "text/plain": [
       "8"
      ]
     },
     "execution_count": 1,
     "metadata": {},
     "output_type": "execute_result"
    }
   ],
   "source": [
    "from typing import List\n",
    "\n",
    "def returnStringLetters(string1: str, string2: str) -> int:\n",
    "    len1 = 0\n",
    "    for _ in string1:\n",
    "        len1 += 1\n",
    "\n",
    "    len2 = 0\n",
    "    for _ in string2:\n",
    "        len2 += 1\n",
    "\n",
    "    if len1 > len2:\n",
    "        return len1\n",
    "    else:\n",
    "        return len2 \n",
    "\n",
    "returnStringLetters(\"Ahmad\",\"Mohammed\")"
   ]
  },
  {
   "cell_type": "code",
   "execution_count": 2,
   "id": "5dda7a6c",
   "metadata": {},
   "outputs": [
    {
     "data": {
      "text/plain": [
       "8"
      ]
     },
     "execution_count": 2,
     "metadata": {},
     "output_type": "execute_result"
    }
   ],
   "source": [
    "from typing import List\n",
    "def returnStringLetters(string1: str, string2: str) -> int:\n",
    "    return max(len(string1), len(string2))\n",
    "\n",
    "returnStringLetters(\"Ahmad\",\"Mohammed\")"
   ]
  },
  {
   "cell_type": "markdown",
   "id": "aa4b8b4d",
   "metadata": {},
   "source": [
    "# Computational complexity"
   ]
  },
  {
   "cell_type": "markdown",
   "id": "a8f487da",
   "metadata": {},
   "source": [
    "## Time Complexity: O(n+m)\n",
    "## Space Complexity: O(1)"
   ]
  }
 ],
 "metadata": {
  "kernelspec": {
   "display_name": "Python 3",
   "language": "python",
   "name": "python3"
  },
  "language_info": {
   "codemirror_mode": {
    "name": "ipython",
    "version": 3
   },
   "file_extension": ".py",
   "mimetype": "text/x-python",
   "name": "python",
   "nbconvert_exporter": "python",
   "pygments_lexer": "ipython3",
   "version": "3.10.0"
  }
 },
 "nbformat": 4,
 "nbformat_minor": 5
}
