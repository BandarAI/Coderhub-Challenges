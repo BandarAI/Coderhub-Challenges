{
 "cells": [
  {
   "cell_type": "markdown",
   "id": "d16450c7",
   "metadata": {},
   "source": [
    "# Problem Description"
   ]
  },
  {
   "cell_type": "markdown",
   "id": "2e698280",
   "metadata": {},
   "source": [
    "<div dir=\"rtl\" style=\"text-align: right;\">\n",
    "قم بكتابة دالة function تستقبل مصفوفة array مكونة من أعداد صحيحة integer. تقوم هذه الدالة بإرجاع قيمة المتوسط الحسابي لهذه الأعداد.\n",
    "</div>\n"
   ]
  },
  {
   "cell_type": "markdown",
   "id": "c3a62a01",
   "metadata": {},
   "source": [
    "# Solution"
   ]
  },
  {
   "cell_type": "code",
   "execution_count": 11,
   "id": "3b0a5d64",
   "metadata": {},
   "outputs": [
    {
     "data": {
      "text/plain": [
       "94.6"
      ]
     },
     "execution_count": 11,
     "metadata": {},
     "output_type": "execute_result"
    }
   ],
   "source": [
    "from typing import List\n",
    "def average(values: List[int]) -> float:\n",
    "    total = 0\n",
    "    count = 0\n",
    "\n",
    "    for value in values:\n",
    "        total += value\n",
    "        count += 1\n",
    "    \n",
    "    if count == 0:\n",
    "        return 0.0\n",
    "    \n",
    "    return total/count\n",
    "\n",
    "average([2, 4, 9, 23, 435])"
   ]
  },
  {
   "cell_type": "code",
   "execution_count": 1,
   "id": "5dda7a6c",
   "metadata": {},
   "outputs": [
    {
     "data": {
      "text/plain": [
       "94.6"
      ]
     },
     "execution_count": 1,
     "metadata": {},
     "output_type": "execute_result"
    }
   ],
   "source": [
    "from typing import List\n",
    "def average(values: List[int]) -> float:\n",
    "    return sum(values)/len(values)\n",
    "\n",
    "average([2, 4, 9, 23, 435])"
   ]
  },
  {
   "cell_type": "markdown",
   "id": "aa4b8b4d",
   "metadata": {},
   "source": [
    "# Computational complexity"
   ]
  },
  {
   "cell_type": "markdown",
   "id": "a8f487da",
   "metadata": {},
   "source": [
    "## Time Complexity: O(n)\n",
    "## Space Complexity: O(1)"
   ]
  }
 ],
 "metadata": {
  "kernelspec": {
   "display_name": "Python 3",
   "language": "python",
   "name": "python3"
  },
  "language_info": {
   "codemirror_mode": {
    "name": "ipython",
    "version": 3
   },
   "file_extension": ".py",
   "mimetype": "text/x-python",
   "name": "python",
   "nbconvert_exporter": "python",
   "pygments_lexer": "ipython3",
   "version": "3.10.0"
  }
 },
 "nbformat": 4,
 "nbformat_minor": 5
}
