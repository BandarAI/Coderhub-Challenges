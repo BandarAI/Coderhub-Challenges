{
 "cells": [
  {
   "cell_type": "markdown",
   "id": "d16450c7",
   "metadata": {},
   "source": [
    "# Problem Description"
   ]
  },
  {
   "cell_type": "markdown",
   "id": "2e698280",
   "metadata": {},
   "source": [
    "<div dir=\"rtl\" style=\"text-align: right;\">\n",
    "قم بكتابة دالة function تستقبل عدد صحيح وتقوم بإرجاع قيمة من نوع boolean، تقوم بإرجاع true إذا كان عدد مقلوب وfalse إذا كان غير ذلك.\n",
    "</div>\n"
   ]
  },
  {
   "cell_type": "markdown",
   "id": "c3a62a01",
   "metadata": {},
   "source": [
    "# Solution"
   ]
  },
  {
   "cell_type": "code",
   "execution_count": null,
   "id": "3b0a5d64",
   "metadata": {},
   "outputs": [
    {
     "name": "stdout",
     "output_type": "stream",
     "text": [
      "False\n",
      "True\n"
     ]
    }
   ],
   "source": [
    "from typing import List\n",
    "def isMirrored(num: int) -> bool:\n",
    "    return num == int(str(num)[::-1])\n",
    "\n",
    "print(isMirrored(112))\n",
    "print(isMirrored(191))"
   ]
  },
  {
   "cell_type": "markdown",
   "id": "aa4b8b4d",
   "metadata": {},
   "source": [
    "# Computational complexity"
   ]
  },
  {
   "cell_type": "markdown",
   "id": "a8f487da",
   "metadata": {},
   "source": [
    "## Time Complexity and Space Complexity: O(n)"
   ]
  }
 ],
 "metadata": {
  "kernelspec": {
   "display_name": "Python 3",
   "language": "python",
   "name": "python3"
  },
  "language_info": {
   "codemirror_mode": {
    "name": "ipython",
    "version": 3
   },
   "file_extension": ".py",
   "mimetype": "text/x-python",
   "name": "python",
   "nbconvert_exporter": "python",
   "pygments_lexer": "ipython3",
   "version": "3.10.0"
  }
 },
 "nbformat": 4,
 "nbformat_minor": 5
}
