{
 "cells": [
  {
   "cell_type": "markdown",
   "id": "d16450c7",
   "metadata": {},
   "source": [
    "# Problem Description"
   ]
  },
  {
   "cell_type": "markdown",
   "id": "2e698280",
   "metadata": {},
   "source": [
    "<div dir=\"rtl\" style=\"text-align: right;\">\n",
    "قم بكتابة دالة function تستقبل عدد عشري يُمثل نصف قطر الدائرة. تقوم الدالة بحساب محيط الدائرة وإرجاع النتيجة.\n",
    "</div>\n"
   ]
  },
  {
   "cell_type": "markdown",
   "id": "c3a62a01",
   "metadata": {},
   "source": [
    "# Solution"
   ]
  },
  {
   "cell_type": "code",
   "execution_count": 3,
   "id": "3b0a5d64",
   "metadata": {},
   "outputs": [
    {
     "data": {
      "text/plain": [
       "12.566370614359172"
      ]
     },
     "execution_count": 3,
     "metadata": {},
     "output_type": "execute_result"
    }
   ],
   "source": [
    "from typing import List\n",
    "import math \n",
    "def calculate_circumference(radius: float) -> float:\n",
    "    return 2 * math.pi * radius\n",
    "\n",
    "calculate_circumference(2)"
   ]
  },
  {
   "cell_type": "markdown",
   "id": "aa4b8b4d",
   "metadata": {},
   "source": [
    "# Computational complexity"
   ]
  },
  {
   "cell_type": "markdown",
   "id": "a8f487da",
   "metadata": {},
   "source": [
    "## Time Complexity and Space Complexity: O(1)"
   ]
  }
 ],
 "metadata": {
  "kernelspec": {
   "display_name": "Python 3",
   "language": "python",
   "name": "python3"
  },
  "language_info": {
   "codemirror_mode": {
    "name": "ipython",
    "version": 3
   },
   "file_extension": ".py",
   "mimetype": "text/x-python",
   "name": "python",
   "nbconvert_exporter": "python",
   "pygments_lexer": "ipython3",
   "version": "3.10.0"
  }
 },
 "nbformat": 4,
 "nbformat_minor": 5
}
