{
 "cells": [
  {
   "cell_type": "markdown",
   "id": "d16450c7",
   "metadata": {},
   "source": [
    "# Problem Description"
   ]
  },
  {
   "cell_type": "markdown",
   "id": "2e698280",
   "metadata": {},
   "source": [
    "<div dir=\"rtl\" style=\"text-align: right;\">\n",
    "قم بكتابة دالة function تستقبل عددين صحيحين integer. تقوم الدالة بالتحقق من تساوي الأرقام بحيث تقوم بإرجاع القيمة القيمة true في حال كانت الأرقام متساوية، و false في حال كانت الأرقام غير متساوية.\n",
    "</div>\n"
   ]
  },
  {
   "cell_type": "markdown",
   "id": "c3a62a01",
   "metadata": {},
   "source": [
    "# Solution"
   ]
  },
  {
   "cell_type": "code",
   "execution_count": 1,
   "id": "3b0a5d64",
   "metadata": {},
   "outputs": [
    {
     "data": {
      "text/plain": [
       "False"
      ]
     },
     "execution_count": 1,
     "metadata": {},
     "output_type": "execute_result"
    }
   ],
   "source": [
    "from typing import List\n",
    "def equal_check(num1: int, num2: int) -> bool:\n",
    "    return num1 == num2\n",
    "\n",
    "equal_check(2,3)"
   ]
  },
  {
   "cell_type": "markdown",
   "id": "aa4b8b4d",
   "metadata": {},
   "source": [
    "# Computational complexity"
   ]
  },
  {
   "cell_type": "markdown",
   "id": "a8f487da",
   "metadata": {},
   "source": [
    "## Time Complexity and Space Complexity: O(1)"
   ]
  }
 ],
 "metadata": {
  "kernelspec": {
   "display_name": "Python 3",
   "language": "python",
   "name": "python3"
  },
  "language_info": {
   "codemirror_mode": {
    "name": "ipython",
    "version": 3
   },
   "file_extension": ".py",
   "mimetype": "text/x-python",
   "name": "python",
   "nbconvert_exporter": "python",
   "pygments_lexer": "ipython3",
   "version": "3.10.0"
  }
 },
 "nbformat": 4,
 "nbformat_minor": 5
}
