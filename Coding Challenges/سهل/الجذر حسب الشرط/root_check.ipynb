{
 "cells": [
  {
   "cell_type": "markdown",
   "id": "d16450c7",
   "metadata": {},
   "source": [
    "# Problem Description"
   ]
  },
  {
   "cell_type": "markdown",
   "id": "2e698280",
   "metadata": {},
   "source": [
    "<div dir=\"rtl\" style=\"text-align: right;\">\n",
    "قم بكتابة دالة function تستقبل عددين الأول عبارة عن عدد صحيح integer والثاني عدد عشري يمثل الجذر التربيعي لهذا الرقم. قوم الدالة بالتحقق ما إذا كان ناتج الجذر التربيعي مساوي للعدد المدخل. في حال كان الناتج صحيح تقوم الدالة بإرجاع الناتج، في حال غير ذلك تقوم الدالة بإرجاع العدد صفر 0.\n",
    "</div>\n"
   ]
  },
  {
   "cell_type": "markdown",
   "id": "c3a62a01",
   "metadata": {},
   "source": [
    "# Solution"
   ]
  },
  {
   "cell_type": "code",
   "execution_count": 3,
   "id": "3b0a5d64",
   "metadata": {},
   "outputs": [
    {
     "data": {
      "text/plain": [
       "8"
      ]
     },
     "execution_count": 3,
     "metadata": {},
     "output_type": "execute_result"
    }
   ],
   "source": [
    "def root_check(sqr: float, num: int) -> int:\n",
    "    if num * num == sqr:\n",
    "        return num\n",
    "    return 0\n",
    "\n",
    "root_check(64,8)"
   ]
  },
  {
   "cell_type": "code",
   "execution_count": 5,
   "id": "742ac7e2",
   "metadata": {},
   "outputs": [
    {
     "data": {
      "text/plain": [
       "8"
      ]
     },
     "execution_count": 5,
     "metadata": {},
     "output_type": "execute_result"
    }
   ],
   "source": [
    "from typing import List\n",
    "def root_check(sqr: float, num: int) -> int:\n",
    "    if sqr ** (1/2) == num:\n",
    "        return num\n",
    "    else:\n",
    "        return 0\n",
    "    \n",
    "root_check(64,8)"
   ]
  },
  {
   "cell_type": "markdown",
   "id": "aa4b8b4d",
   "metadata": {},
   "source": [
    "# Computational complexity"
   ]
  },
  {
   "cell_type": "markdown",
   "id": "a8f487da",
   "metadata": {},
   "source": [
    "## Time Complexity and Space Complexity: O(1)"
   ]
  }
 ],
 "metadata": {
  "kernelspec": {
   "display_name": "Python 3",
   "language": "python",
   "name": "python3"
  },
  "language_info": {
   "codemirror_mode": {
    "name": "ipython",
    "version": 3
   },
   "file_extension": ".py",
   "mimetype": "text/x-python",
   "name": "python",
   "nbconvert_exporter": "python",
   "pygments_lexer": "ipython3",
   "version": "3.10.0"
  }
 },
 "nbformat": 4,
 "nbformat_minor": 5
}
