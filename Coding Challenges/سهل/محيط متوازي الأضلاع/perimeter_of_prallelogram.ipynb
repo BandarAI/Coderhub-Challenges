{
 "cells": [
  {
   "cell_type": "markdown",
   "id": "d16450c7",
   "metadata": {},
   "source": [
    "# Problem Description"
   ]
  },
  {
   "cell_type": "markdown",
   "id": "2e698280",
   "metadata": {},
   "source": [
    "<div dir=\"rtl\" style=\"text-align: right;\">\n",
    "قم بكتابة دالة function تستقبل عددين عشريين يُمثلان طول ضلع متوازي الأضلاع وقاعدته. تقوم الدالة بحساب محيط متوازي الأضلاع وإرجاع النتيجة.\n",
    "</div>\n"
   ]
  },
  {
   "cell_type": "markdown",
   "id": "c3a62a01",
   "metadata": {},
   "source": [
    "# Solution"
   ]
  },
  {
   "cell_type": "code",
   "execution_count": 1,
   "id": "3b0a5d64",
   "metadata": {},
   "outputs": [
    {
     "data": {
      "text/plain": [
       "24"
      ]
     },
     "execution_count": 1,
     "metadata": {},
     "output_type": "execute_result"
    }
   ],
   "source": [
    "from typing import List\n",
    "def perimeter_of_prallelogram(base_value: float, length: float) -> float:\n",
    "    return (base_value + length)*2\n",
    "\n",
    "perimeter_of_prallelogram(5,7)"
   ]
  },
  {
   "cell_type": "markdown",
   "id": "aa4b8b4d",
   "metadata": {},
   "source": [
    "# Computational complexity"
   ]
  },
  {
   "cell_type": "markdown",
   "id": "a8f487da",
   "metadata": {},
   "source": [
    "## Time and Space Complexity O(1)\n"
   ]
  }
 ],
 "metadata": {
  "kernelspec": {
   "display_name": "Python 3",
   "language": "python",
   "name": "python3"
  },
  "language_info": {
   "codemirror_mode": {
    "name": "ipython",
    "version": 3
   },
   "file_extension": ".py",
   "mimetype": "text/x-python",
   "name": "python",
   "nbconvert_exporter": "python",
   "pygments_lexer": "ipython3",
   "version": "3.10.0"
  }
 },
 "nbformat": 4,
 "nbformat_minor": 5
}
