{
 "cells": [
  {
   "cell_type": "markdown",
   "id": "d16450c7",
   "metadata": {},
   "source": [
    "# Problem Description"
   ]
  },
  {
   "cell_type": "markdown",
   "id": "2e698280",
   "metadata": {},
   "source": [
    "<div dir=\"rtl\" style=\"text-align: right;\">\n",
    "الجملة تعتبر باليندروم (Palindrome) إذا كانت تقرأ بنفس الشكل عند قراءتها من الأمام أو من الخلف، بعد:\n",
    "\n",
    "    تحويل جميع الأحرف إلى أحرف صغيرة.\n",
    "\n",
    "    إزالة جميع الأحرف غير الأبجدية الرقمية (مثل المسافات والعلامات).\n",
    "\n",
    "اكتب دالة isPalindrome تأخذ نصًا s كمدخل، وتُعيد:\n",
    "\n",
    "    true إذا كانت الجملة باليندروم.\n",
    "\n",
    "    false إذا لم تكن كذلك.\n",
    "\n",
    "مثال:\n",
    "المدخل:\n",
    "\n",
    "s = \"A man, a plan, a canal: Panama\"\n",
    "</div>\n"
   ]
  },
  {
   "cell_type": "markdown",
   "id": "c3a62a01",
   "metadata": {},
   "source": [
    "# Solution"
   ]
  },
  {
   "cell_type": "code",
   "execution_count": 9,
   "id": "3b0a5d64",
   "metadata": {},
   "outputs": [
    {
     "data": {
      "text/plain": [
       "True"
      ]
     },
     "execution_count": 9,
     "metadata": {},
     "output_type": "execute_result"
    }
   ],
   "source": [
    "from typing import List\n",
    "def isPalindrome(s: str) -> bool:\n",
    "\n",
    "    for punctuation in ' ,.:?;\"-':\n",
    "        s = s.replace(punctuation, \"\")\n",
    "    s = s.lower()\n",
    "    \n",
    "    return s == s[::-1]\n",
    "\n",
    "isPalindrome(s = 'A man, a plan, a canal: Panama')"
   ]
  },
  {
   "cell_type": "markdown",
   "id": "aa4b8b4d",
   "metadata": {},
   "source": [
    "# Computational complexity"
   ]
  },
  {
   "cell_type": "markdown",
   "id": "a8f487da",
   "metadata": {},
   "source": [
    "## Time Complexity: O(n)\n",
    "## Space Complexity: O(n) "
   ]
  }
 ],
 "metadata": {
  "kernelspec": {
   "display_name": "Python 3",
   "language": "python",
   "name": "python3"
  },
  "language_info": {
   "codemirror_mode": {
    "name": "ipython",
    "version": 3
   },
   "file_extension": ".py",
   "mimetype": "text/x-python",
   "name": "python",
   "nbconvert_exporter": "python",
   "pygments_lexer": "ipython3",
   "version": "3.10.0"
  }
 },
 "nbformat": 4,
 "nbformat_minor": 5
}
